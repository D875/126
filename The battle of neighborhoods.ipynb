{
 "cells": [
  {
   "cell_type": "markdown",
   "metadata": {},
   "source": [
    "# The Battle of Neighborhoods (part1)"
   ]
  },
  {
   "cell_type": "markdown",
   "metadata": {},
   "source": [
    "# 1.0 Business problem"
   ]
  },
  {
   "cell_type": "markdown",
   "metadata": {},
   "source": [
    "How to choose the best location to start an Asian restaurant in New York?"
   ]
  },
  {
   "cell_type": "markdown",
   "metadata": {},
   "source": [
    "# 2.0 Introduction"
   ]
  },
  {
   "cell_type": "markdown",
   "metadata": {},
   "source": [
    "Location is very important for a restaurant to survive in the market competition. Actually, different locations are suitable for different types of restaurants. There are some suggestions of how to choose the best location to start an Asian restaurant in New York."
   ]
  },
  {
   "cell_type": "markdown",
   "metadata": {},
   "source": [
    "a) target marketing: you need to define your targeting customers, such as Chinese, Indian or Japanese?"
   ]
  },
  {
   "cell_type": "markdown",
   "metadata": {},
   "source": [
    "b) style: services and tastes of foods"
   ]
  },
  {
   "cell_type": "markdown",
   "metadata": {},
   "source": [
    "c) competitors: for a new restaurant, you may avoid in the central of the city, because of high competition."
   ]
  },
  {
   "cell_type": "markdown",
   "metadata": {},
   "source": [
    "d) location: you need to consider rent costs and convenient transportations for customers to come to the restaurant."
   ]
  },
  {
   "cell_type": "markdown",
   "metadata": {},
   "source": [
    "We will use our data science powers to generate a few most promissing neighborhoods based on this criteria. Advantages of each area will then be clearly expressed so that best possible final location can be chosen by stakeholders."
   ]
  },
  {
   "cell_type": "markdown",
   "metadata": {},
   "source": [
    "# Data"
   ]
  },
  {
   "cell_type": "markdown",
   "metadata": {},
   "source": [
    "1.number of existing restaurants in the neighborhood\n",
    "2.number of and distance to Asian restaurants in the neighborhood\n",
    "3.distance of neighborhood from city center"
   ]
  },
  {
   "cell_type": "markdown",
   "metadata": {},
   "source": [
    "We decided to use regularly spaced grid of locations, centered around city center, to define our neighborhoods."
   ]
  },
  {
   "cell_type": "markdown",
   "metadata": {},
   "source": [
    "Following data sources will be needed to extract/generate the required information:\n",
    "\n",
    "i) centers of candidate areas will be generated algorithmically and approximate addresses of centers of those areas will be obtained using Google Maps API reverse geocoding\n",
    "\n",
    "ii) number of restaurants and their type and location in every neighborhood will be obtained using Foursquare API\n",
    "\n",
    "iii) coordinate of Berlin center will be obtained using Google Maps API geocoding of well known Berlin location (Alexanderplatz)"
   ]
  }
 ],
 "metadata": {
  "kernelspec": {
   "display_name": "Python 3",
   "language": "python",
   "name": "python3"
  },
  "language_info": {
   "codemirror_mode": {
    "name": "ipython",
    "version": 3
   },
   "file_extension": ".py",
   "mimetype": "text/x-python",
   "name": "python",
   "nbconvert_exporter": "python",
   "pygments_lexer": "ipython3",
   "version": "3.7.1"
  }
 },
 "nbformat": 4,
 "nbformat_minor": 2
}
